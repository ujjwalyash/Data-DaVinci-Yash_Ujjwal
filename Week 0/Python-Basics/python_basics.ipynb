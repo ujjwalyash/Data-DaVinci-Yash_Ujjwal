{
 "cells": [
  {
   "cell_type": "code",
   "execution_count": 38,
   "metadata": {},
   "outputs": [],
   "source": [
    "# Welcome to Data DaVinci and Introduction to Python\n",
    "# Any lines starting with \"#\" are comments"
   ]
  },
  {
   "cell_type": "markdown",
   "metadata": {},
   "source": [
    "### Run the following to get an idea of how python works"
   ]
  },
  {
   "cell_type": "code",
   "execution_count": 39,
   "metadata": {},
   "outputs": [
    {
     "name": "stdout",
     "output_type": "stream",
     "text": [
      "number is of type <class 'int'>\n",
      "floating_point is of type <class 'float'>\n",
      "word is of type <class 'str'>\n",
      "boolean is of type <class 'bool'>\n",
      "empty is of type <class 'NoneType'>\n"
     ]
    }
   ],
   "source": [
    "# Variables and data types\n",
    "number = 10\n",
    "print(\"number is of type\", type(number))\n",
    "\n",
    "floating_point = 10.3\n",
    "print(\"floating_point is of type\", type(floating_point))\n",
    "\n",
    "word = \"Data DaVinci\"\n",
    "print(\"word is of type\", type(word))\n",
    "\n",
    "boolean = False # (Note that False is capitalised)\n",
    "print(\"boolean is of type\", type(boolean))\n",
    "\n",
    "empty = None # Similar to null in C++, can be returned by a function if nothing relevant is found\n",
    "print(\"empty is of type\", type(empty))"
   ]
  },
  {
   "cell_type": "code",
   "execution_count": 40,
   "metadata": {},
   "outputs": [
    {
     "name": "stdout",
     "output_type": "stream",
     "text": [
      "variable is of type <class 'int'>\n",
      "variable is of type <class 'str'>\n"
     ]
    }
   ],
   "source": [
    "# Variable types are not fixed\n",
    "variable = 20\n",
    "print(\"variable is of type\", type(variable))\n",
    "\n",
    "variable = \"20\"\n",
    "print(\"variable is of type\", type(variable))"
   ]
  },
  {
   "cell_type": "code",
   "execution_count": 41,
   "metadata": {},
   "outputs": [
    {
     "name": "stdout",
     "output_type": "stream",
     "text": [
      "Subtraction         10 - 3 = 7\n",
      "Addition            10 + 3 = 13\n",
      "Multiplication      10 * 3 = 30\n",
      "Division            10 / 3 = 3.33\n",
      "Floor Division      10 // 3 = 3\n",
      "Remainder           10 % 3 = 1\n",
      "Exponentiation      10 ** 3 = 1000\n"
     ]
    }
   ],
   "source": [
    "# Arithmetic operations\n",
    "a = 10\n",
    "b = 3\n",
    "\n",
    "print(f\"Subtraction         {a} - {b} = {a - b}\")\n",
    "print(f\"Addition            {a} + {b} = {a + b}\")\n",
    "print(f\"Multiplication      {a} * {b} = {a * b}\")\n",
    "print(f\"Division            {a} / {b} = {a / b:.2f}\")  # Display division result up to 2 decimal places\n",
    "print(f\"Floor Division      {a} // {b} = {a // b}\")    # Integer division result\n",
    "print(f\"Remainder           {a} % {b} = {a % b}\")      # Remainder after division\n",
    "print(f\"Exponentiation      {a} ** {b} = {a ** b}\")    # Exponential calculation\n"
   ]
  },
  {
   "cell_type": "code",
   "execution_count": 42,
   "metadata": {},
   "outputs": [
    {
     "name": "stdout",
     "output_type": "stream",
     "text": [
      "10 greater than 3                                           True\n",
      "10 greater than 3 and 10 gives a remainder of 1 with 3      True\n"
     ]
    }
   ],
   "source": [
    "# Conditionals\n",
    "a = 10\n",
    "b = 3\n",
    "\n",
    "print(f\"10 greater than 3                                           {a > b}\")\n",
    "# Can be done for <, >=, <=, ==\n",
    "\n",
    "# Can connect booleans with \"or\" \"and\"\n",
    "print(f\"10 greater than 3 and 10 gives a remainder of 1 with 3      {10 > 3 and 10 % 3 == 1}\")"
   ]
  },
  {
   "cell_type": "code",
   "execution_count": 43,
   "metadata": {},
   "outputs": [
    {
     "name": "stdout",
     "output_type": "stream",
     "text": [
      "Everything is normal\n",
      "In for loop iteration number 1\n",
      "In for loop iteration number 2\n",
      "In for loop iteration number 3\n",
      "In for loop iteration number 4\n",
      "In for loop iteration number 5\n",
      "In for loop iteration number 6\n",
      "In for loop iteration number 7\n",
      "In for loop iteration number 8\n",
      "In for loop iteration number 9\n",
      "In for loop iteration number 10\n",
      "In while loop iteration number 1\n",
      "In while loop iteration number 2\n",
      "In while loop iteration number 3\n",
      "In while loop iteration number 4\n",
      "In while loop iteration number 5\n"
     ]
    }
   ],
   "source": [
    "# Control Statements (Indentation is important)\n",
    "if 10 < 3:\n",
    "    print(\"This is impossible\")\n",
    "else:\n",
    "    print(\"Everything is normal\")\n",
    "\n",
    "for i in range(10):\n",
    "    print(f\"In for loop iteration number {i + 1}\")\n",
    "\n",
    "a = 0\n",
    "while a < 5:\n",
    "    print(f\"In while loop iteration number {a + 1}\")\n",
    "    a = a + 1"
   ]
  },
  {
   "cell_type": "code",
   "execution_count": 44,
   "metadata": {},
   "outputs": [
    {
     "name": "stdout",
     "output_type": "stream",
     "text": [
      "First element: apple\n",
      "Last element using positive index: 10\n",
      "Last element using negative index: kiwi\n",
      "\n",
      "List after appending an item: ['apple', 'orange', 'banana', 'grape', 'cherry', 'mango', 'pineapple', 10, 'kiwi', 'watermelon']\n",
      "\n",
      "Slicing examples:\n",
      "First 2 elements: ['apple', 'orange']\n",
      "Elements from index 4 to the end: ['cherry', 'mango', 'pineapple', 10, 'kiwi', 'watermelon']\n",
      "Every second element starting from index 1: ['orange', 'grape', 'mango', 10, 'watermelon']\n",
      "Last element as a slice: ['watermelon']\n",
      "\n",
      "List after modifying the second element: ['apple', 'blueberry', 'banana', 'grape', 'cherry', 'mango', 'pineapple', 10, 'kiwi', 'watermelon']\n",
      "\n",
      "List after removing 'cherry': ['apple', 'blueberry', 'banana', 'grape', 'mango', 'pineapple', 10, 'kiwi', 'watermelon']\n",
      "List after deleting the first element: ['blueberry', 'banana', 'grape', 'mango', 'pineapple', 10, 'kiwi', 'watermelon']\n",
      "Popped item: watermelon\n",
      "List after popping the last element: ['blueberry', 'banana', 'grape', 'mango', 'pineapple', 10, 'kiwi']\n",
      "\n",
      "List after sorting: ['banana', 'blueberry', 'grape', 'kiwi', 'mango', 'pineapple']\n",
      "List after reversing: ['pineapple', 'mango', 'kiwi', 'grape', 'blueberry', 'banana']\n",
      "\n",
      "Length of the list: 6\n"
     ]
    }
   ],
   "source": [
    "# List\n",
    "fruits = [\"apple\", \"orange\", \"banana\", \"grape\", \"cherry\", \"mango\", \"pineapple\", 10, \"kiwi\"]\n",
    "# Lists can have multiple data types in them\n",
    "\n",
    "# 1. Accessing elements\n",
    "print(\"First element:\", fruits[0])  # Access first item\n",
    "print(\"Last element using positive index:\", fruits[7])  # Access last item using positive index\n",
    "print(\"Last element using negative index:\", fruits[-1])  # Access last item using negative index\n",
    "\n",
    "# 2. Adding an item to the list\n",
    "fruits.append(\"watermelon\")  # Add an item to the end\n",
    "print(\"\\nList after appending an item:\", fruits)\n",
    "\n",
    "# 3. Slicing the list\n",
    "print(\"\\nSlicing examples:\")\n",
    "print(\"First 2 elements:\", fruits[:2])  # Elements from start to index 1\n",
    "print(\"Elements from index 4 to the end:\", fruits[4:])  # Elements from index 2 onwards\n",
    "print(\"Every second element starting from index 1:\", fruits[1::2])  # Every second element starting at index 1\n",
    "print(\"Last element as a slice:\", fruits[-1:])  # Last element using slicing\n",
    "\n",
    "# 4. Modifying an element\n",
    "fruits[1] = \"blueberry\"  # Update the second element\n",
    "print(\"\\nList after modifying the second element:\", fruits)\n",
    "\n",
    "# 5. Removing items\n",
    "fruits.remove(\"cherry\")  # Remove item by value\n",
    "print(\"\\nList after removing 'cherry':\", fruits)\n",
    "\n",
    "del fruits[0]  # Remove first element by index\n",
    "print(\"List after deleting the first element:\", fruits)\n",
    "\n",
    "last_fruit = fruits.pop()  # Pop and retrieve the last item\n",
    "print(\"Popped item:\", last_fruit)\n",
    "print(\"List after popping the last element:\", fruits)\n",
    "\n",
    "# 6. Sorting and reversing\n",
    "fruits.remove(10)\n",
    "fruits.sort()  # Sort in ascending order\n",
    "print(\"\\nList after sorting:\", fruits)\n",
    "\n",
    "fruits.reverse()  # Reverse the list\n",
    "print(\"List after reversing:\", fruits)\n",
    "\n",
    "# 7. List length\n",
    "print(\"\\nLength of the list:\", len(fruits))\n"
   ]
  },
  {
   "cell_type": "code",
   "execution_count": 45,
   "metadata": {},
   "outputs": [
    {
     "name": "stdout",
     "output_type": "stream",
     "text": [
      "Name: Alice\n",
      "Age: 25\n",
      "First hobby: reading\n",
      "Python skill level: Intermediate\n",
      "\n",
      "Dictionary after adding 'married': {'name': 'Alice', 'age': 25, 'city': 'New York', 'profession': 'Engineer', 'hobbies': ['reading', 'cycling', 'painting'], 'is_student': False, 'height': 5.6, 'skills': {'Python': 'Intermediate', 'Java': 'Beginner'}, 'married': False}\n",
      "\n",
      "Dictionary after updating 'city': {'name': 'Alice', 'age': 25, 'city': 'Los Angeles', 'profession': 'Engineer', 'hobbies': ['reading', 'cycling', 'painting'], 'is_student': False, 'height': 5.6, 'skills': {'Python': 'Intermediate', 'Java': 'Beginner'}, 'married': False}\n",
      "\n",
      "Dictionary after adding a new hobby: {'name': 'Alice', 'age': 25, 'city': 'Los Angeles', 'profession': 'Engineer', 'hobbies': ['reading', 'cycling', 'painting', 'hiking'], 'is_student': False, 'height': 5.6, 'skills': {'Python': 'Intermediate', 'Java': 'Beginner'}, 'married': False}\n",
      "\n",
      "Dictionary after removing 'is_student': {'name': 'Alice', 'age': 25, 'city': 'Los Angeles', 'profession': 'Engineer', 'hobbies': ['reading', 'cycling', 'painting', 'hiking'], 'height': 5.6, 'skills': {'Python': 'Intermediate', 'Java': 'Beginner'}, 'married': False}\n",
      "Popped value: 5.6\n",
      "Dictionary after popping 'height': {'name': 'Alice', 'age': 25, 'city': 'Los Angeles', 'profession': 'Engineer', 'hobbies': ['reading', 'cycling', 'painting', 'hiking'], 'skills': {'Python': 'Intermediate', 'Java': 'Beginner'}, 'married': False}\n",
      "\n",
      "Keys in the dictionary: ['name', 'age', 'city', 'profession', 'hobbies', 'skills', 'married']\n",
      "Values in the dictionary: ['Alice', 25, 'Los Angeles', 'Engineer', ['reading', 'cycling', 'painting', 'hiking'], {'Python': 'Intermediate', 'Java': 'Beginner'}, False]\n",
      "Items in the dictionary: [('name', 'Alice'), ('age', 25), ('city', 'Los Angeles'), ('profession', 'Engineer'), ('hobbies', ['reading', 'cycling', 'painting', 'hiking']), ('skills', {'Python': 'Intermediate', 'Java': 'Beginner'}), ('married', False)]\n",
      "\n",
      "Using `get` to access 'profession': Engineer\n",
      "Using `get` to access 'salary': Not Available\n",
      "\n",
      "Iterating through the dictionary:\n",
      "name: Alice\n",
      "age: 25\n",
      "city: Los Angeles\n",
      "profession: Engineer\n",
      "hobbies: ['reading', 'cycling', 'painting', 'hiking']\n",
      "skills: {'Python': 'Intermediate', 'Java': 'Beginner'}\n",
      "married: False\n",
      "\n",
      "Dictionary after merging additional info: {'name': 'Alice', 'age': 25, 'city': 'Los Angeles', 'profession': 'Engineer', 'hobbies': ['reading', 'cycling', 'painting', 'hiking'], 'skills': {'Python': 'Intermediate', 'Java': 'Beginner'}, 'married': False, 'salary': 70000, 'department': 'R&D'}\n",
      "\n",
      "Dictionary after clearing all items: {}\n"
     ]
    }
   ],
   "source": [
    "# Dictionary\n",
    "person = {\n",
    "    \"name\": \"Alice\",\n",
    "    \"age\": 25,\n",
    "    \"city\": \"New York\",\n",
    "    \"profession\": \"Engineer\",\n",
    "    \"hobbies\": [\"reading\", \"cycling\", \"painting\"],\n",
    "    \"is_student\": False,\n",
    "    \"height\": 5.6,\n",
    "    \"skills\": {\"Python\": \"Intermediate\", \"Java\": \"Beginner\"}\n",
    "}\n",
    "\n",
    "# 1. Accessing values\n",
    "print(\"Name:\", person[\"name\"])  # Access by key\n",
    "print(\"Age:\", person[\"age\"])\n",
    "print(\"First hobby:\", person[\"hobbies\"][0])  # Accessing a list within the dictionary\n",
    "print(\"Python skill level:\", person[\"skills\"][\"Python\"])  # Accessing a nested dictionary\n",
    "\n",
    "# 2. Adding new key-value pairs\n",
    "person[\"married\"] = False  # Add a new key-value pair\n",
    "print(\"\\nDictionary after adding 'married':\", person)\n",
    "\n",
    "# 3. Modifying values\n",
    "person[\"city\"] = \"Los Angeles\"  # Update an existing key\n",
    "print(\"\\nDictionary after updating 'city':\", person)\n",
    "\n",
    "person[\"hobbies\"].append(\"hiking\")  # Modify the list inside the dictionary\n",
    "print(\"\\nDictionary after adding a new hobby:\", person)\n",
    "\n",
    "# 4. Removing key-value pairs\n",
    "del person[\"is_student\"]  # Remove a key-value pair\n",
    "print(\"\\nDictionary after removing 'is_student':\", person)\n",
    "\n",
    "removed_value = person.pop(\"height\")  # Pop a key-value pair and retrieve its value\n",
    "print(\"Popped value:\", removed_value)\n",
    "print(\"Dictionary after popping 'height':\", person)\n",
    "\n",
    "# 5. Checking keys and values\n",
    "print(\"\\nKeys in the dictionary:\", list(person.keys()))  # Get all keys\n",
    "print(\"Values in the dictionary:\", list(person.values()))  # Get all values\n",
    "print(\"Items in the dictionary:\", list(person.items()))  # Get all key-value pairs\n",
    "\n",
    "# 6. Using `get` to access values safely\n",
    "print(\"\\nUsing `get` to access 'profession':\", person.get(\"profession\"))  # Existing key\n",
    "print(\"Using `get` to access 'salary':\", person.get(\"salary\", \"Not Available\"))  # Non-existent key\n",
    "\n",
    "# 7. Iterating through the dictionary\n",
    "print(\"\\nIterating through the dictionary:\")\n",
    "for key, value in person.items():\n",
    "    print(f\"{key}: {value}\")\n",
    "\n",
    "# 8. Merging dictionaries\n",
    "additional_info = {\"salary\": 70000, \"department\": \"R&D\"}\n",
    "person.update(additional_info)  # Merge two dictionaries\n",
    "print(\"\\nDictionary after merging additional info:\", person)\n",
    "\n",
    "# 9. Clearing the dictionary\n",
    "person.clear()  # Clear all key-value pairs\n",
    "print(\"\\nDictionary after clearing all items:\", person)\n"
   ]
  },
  {
   "cell_type": "code",
   "execution_count": 46,
   "metadata": {},
   "outputs": [
    {
     "name": "stdout",
     "output_type": "stream",
     "text": [
      "First element: apple\n",
      "Last element using positive index: kiwi\n",
      "Last element using negative index: kiwi\n",
      "\n",
      "Slicing examples:\n",
      "First 2 elements: ('apple', 'banana')\n",
      "Elements from index 2 to the end: ('cherry', 'orange', 'grape', 'mango', 'pineapple', 'kiwi')\n",
      "Every second element starting from index 1: ('banana', 'orange', 'mango', 'kiwi')\n",
      "Reverse the tuple: ('kiwi', 'pineapple', 'mango', 'grape', 'orange', 'cherry', 'banana', 'apple')\n",
      "\n",
      "Checking membership:\n",
      "Is 'apple' in the tuple? True\n",
      "Is 'pear' in the tuple? False\n",
      "\n",
      "Length of the tuple: 8\n",
      "\n",
      "Unpacking the tuple:\n",
      "First: apple\n",
      "Second: banana\n",
      "Third: cherry\n",
      "Remaining: ['orange', 'grape', 'mango', 'pineapple', 'kiwi']\n",
      "\n",
      "Accessing a nested tuple:\n",
      "First nested element: ('Alice', 25)\n",
      "Name of the first person: Alice\n",
      "\n",
      "Converting tuples and lists:\n",
      "List after adding an item: ['apple', 'banana', 'cherry', 'orange', 'grape', 'mango', 'pineapple', 'kiwi', 'watermelon']\n",
      "Tuple after converting back from list: ('apple', 'banana', 'cherry', 'orange', 'grape', 'mango', 'pineapple', 'kiwi', 'watermelon')\n",
      "\n",
      "Counting and finding elements:\n",
      "Count of 'apple': 1\n",
      "Index of 'cherry': 2\n",
      "\n",
      "Iterating through the tuple:\n",
      "apple\n",
      "banana\n",
      "cherry\n",
      "orange\n",
      "grape\n",
      "mango\n",
      "pineapple\n",
      "kiwi\n",
      "\n",
      "Tuple concatenation and repetition:\n",
      "Concatenated tuple: ('apple', 'banana', 'cherry', 'orange', 'grape', 'mango', 'pineapple', 'kiwi', 'pear', 'plum')\n",
      "Repeated tuple: ('apple', 'banana', 'cherry', 'orange', 'grape', 'mango', 'pineapple', 'kiwi', 'apple', 'banana', 'cherry', 'orange', 'grape', 'mango', 'pineapple', 'kiwi')\n"
     ]
    }
   ],
   "source": [
    "# Tuple\n",
    "# The main difference between lists and tuples is that tuples are immutable (contents cannot be changed)\n",
    "fruits = (\"apple\", \"banana\", \"cherry\", \"orange\", \"grape\", \"mango\", \"pineapple\", \"kiwi\")\n",
    "\n",
    "# 1. Accessing elements\n",
    "print(\"First element:\", fruits[0])  # Access the first element\n",
    "print(\"Last element using positive index:\", fruits[7])  # Access the last element using a positive index\n",
    "print(\"Last element using negative index:\", fruits[-1])  # Access the last element using a negative index\n",
    "\n",
    "# 2. Slicing the tuple\n",
    "print(\"\\nSlicing examples:\")\n",
    "print(\"First 2 elements:\", fruits[:2])  # Elements from the start to index 1\n",
    "print(\"Elements from index 2 to the end:\", fruits[2:])  # Elements from index 2 to the end\n",
    "print(\"Every second element starting from index 1:\", fruits[1::2])  # Every second element starting at index 1\n",
    "print(\"Reverse the tuple:\", fruits[::-1])  # Reverse the tuple using slicing\n",
    "\n",
    "# 3. Checking for membership\n",
    "print(\"\\nChecking membership:\")\n",
    "print(\"Is 'apple' in the tuple?\", \"apple\" in fruits)\n",
    "print(\"Is 'pear' in the tuple?\", \"pear\" in fruits)\n",
    "\n",
    "# 4. Length of the tuple\n",
    "print(\"\\nLength of the tuple:\", len(fruits))  # Get the number of elements\n",
    "\n",
    "# 5. Unpacking a tuple\n",
    "print(\"\\nUnpacking the tuple:\")\n",
    "first, second, third, *remaining = fruits  # Unpacking with * to handle excess items\n",
    "print(\"First:\", first)\n",
    "print(\"Second:\", second)\n",
    "print(\"Third:\", third)\n",
    "print(\"Remaining:\", remaining)\n",
    "\n",
    "# 6. Nested tuples\n",
    "nested_tuple = ((\"Alice\", 25), (\"Bob\", 30), (\"Charlie\", 35))\n",
    "print(\"\\nAccessing a nested tuple:\")\n",
    "print(\"First nested element:\", nested_tuple[0])  # Accessing the first tuple\n",
    "print(\"Name of the first person:\", nested_tuple[0][0])  # Accessing an element within the nested tuple\n",
    "\n",
    "# 7. Converting between tuples and lists\n",
    "print(\"\\nConverting tuples and lists:\")\n",
    "fruits_list = list(fruits)  # Convert tuple to list\n",
    "fruits_list.append(\"watermelon\")  # Add an item to the list\n",
    "print(\"List after adding an item:\", fruits_list)\n",
    "\n",
    "fruits_tuple = tuple(fruits_list)  # Convert back to tuple\n",
    "print(\"Tuple after converting back from list:\", fruits_tuple)\n",
    "\n",
    "# 8. Counting and finding elements\n",
    "print(\"\\nCounting and finding elements:\")\n",
    "print(\"Count of 'apple':\", fruits.count(\"apple\"))  # Count occurrences of an element\n",
    "print(\"Index of 'cherry':\", fruits.index(\"cherry\"))  # Find the index of an element\n",
    "\n",
    "# 9. Iterating through a tuple\n",
    "print(\"\\nIterating through the tuple:\")\n",
    "for fruit in fruits:\n",
    "    print(fruit)\n",
    "\n",
    "# 10. Tuple concatenation and repetition\n",
    "print(\"\\nTuple concatenation and repetition:\")\n",
    "new_tuple = fruits + (\"pear\", \"plum\")  # Concatenating tuples\n",
    "print(\"Concatenated tuple:\", new_tuple)\n",
    "\n",
    "repeated_tuple = fruits * 2  # Repeating a tuple\n",
    "print(\"Repeated tuple:\", repeated_tuple)"
   ]
  },
  {
   "cell_type": "markdown",
   "metadata": {},
   "source": [
    "### Some assignment problems"
   ]
  },
  {
   "cell_type": "code",
   "execution_count": 47,
   "metadata": {},
   "outputs": [
    {
     "data": {
      "text/plain": [
       "'\\nGiven a mxn matrix filled with integers, print them in a spiral order. For example:\\n 1  2  3  4  5\\n 6  7  8  9 10\\n11 12 13 14 15\\n16 17 18 19 20\\n21 22 23 24 25\\nwould have an output of 1 2 3 4 5 10 15 20 25 24 23 22 21 16 11 6 7 8 9 14 19 18 17 12 13 \\n'"
      ]
     },
     "execution_count": 47,
     "metadata": {},
     "output_type": "execute_result"
    }
   ],
   "source": [
    "# Assignment 1\n",
    "'''\n",
    "Given a mxn matrix filled with integers, print them in a spiral order. For example:\n",
    " 1  2  3  4  5\n",
    " 6  7  8  9 10\n",
    "11 12 13 14 15\n",
    "16 17 18 19 20\n",
    "21 22 23 24 25\n",
    "would have an output of 1 2 3 4 5 10 15 20 25 24 23 22 21 16 11 6 7 8 9 14 19 18 17 12 13 \n",
    "'''"
   ]
  },
  {
   "cell_type": "code",
   "execution_count": 84,
   "metadata": {},
   "outputs": [],
   "source": [
    "def print_spiral_order(matrix):\n",
    "\n",
    "    m = len(matrix)\n",
    "    n = len(matrix[0])\n",
    "\n",
    "    total = 0\n",
    "    for i in range(m):\n",
    "        for j in range(n):\n",
    "            total += matrix[i][j]\n",
    "\n",
    "    arr = []\n",
    "\n",
    "    i, j = 0, -1\n",
    "    right, up = True, False\n",
    "\n",
    "    #last number not included\n",
    "    while(m and n):\n",
    "\n",
    "        if(right):\n",
    "            for it in range(0, n): \n",
    "                if j == -1: \n",
    "                    j += 1\n",
    "                    continue\n",
    "                arr.append(matrix[i][j])\n",
    "                j += 1\n",
    "        else:\n",
    "            for it in range(0, n): \n",
    "                arr.append(matrix[i][j]) \n",
    "                j -= 1\n",
    "\n",
    "        m -= 1\n",
    "        right = not right\n",
    "\n",
    "        if(up):\n",
    "            for it in range(0, m): \n",
    "                arr.append(matrix[i][j])\n",
    "                i -= 1\n",
    "        else:\n",
    "            for it in range(0, m): \n",
    "                arr.append(matrix[i][j])\n",
    "                i += 1\n",
    "\n",
    "        n -= 1\n",
    "        up = not up\n",
    "\n",
    "    #to add the missing number\n",
    "    arr.append(total - sum(arr))\n",
    "    return arr"
   ]
  },
  {
   "cell_type": "code",
   "execution_count": 95,
   "metadata": {},
   "outputs": [
    {
     "name": "stdout",
     "output_type": "stream",
     "text": [
      "Test Case 1 Output: [1, 2, 3, 6, 9, 8, 7, 4, 5]\n",
      "Test Case 2 Output: [1, 2, 3, 4, 8, 12, 16, 15, 14, 13, 9, 5, 6, 7, 11, 10]\n",
      "Test Case 3 Output: [1, 2, 3, 4, 5, 10, 15, 20, 25, 24, 23, 22, 21, 16, 11, 6, 7, 8, 9, 14, 19, 18, 17, 12, 13]\n",
      " Test Case 1 Expected Output: [1, 2, 3, 6, 9, 8, 7, 4, 5]\n",
      "Test Case 2 Expected Output: [1, 2, 3, 4, 8, 12, 16, 15, 14, 13, 9, 5, 6, 7, 11, 10]\n",
      "Test Case 3 Expected Output: [1, 2, 3, 4, 5, 10, 15, 20, 25, 24, 23, 22, 21, 16, 11, 6, 7, 8, 9, 14, 19, 18, 17, 12, 13]\n",
      "\n"
     ]
    }
   ],
   "source": [
    "#Testing your code here\n",
    "# Test case 1: 3x3 Matrix\n",
    "matrix1 = [\n",
    "    [1, 2, 3],\n",
    "    [4, 5, 6],\n",
    "    [7, 8, 9]\n",
    "]\n",
    "\n",
    "# Test case 2: 4x4 Matrix\n",
    "matrix2 = [\n",
    "    [1, 2, 3, 4],\n",
    "    [5, 6, 7, 8],\n",
    "    [9, 10, 11, 12],\n",
    "    [13, 14, 15, 16]\n",
    "]\n",
    "\n",
    "# Test case 3: 5x5 Matrix\n",
    "matrix3 = [\n",
    "    [1, 2, 3, 4, 5],\n",
    "    [6, 7, 8, 9, 10],\n",
    "    [11, 12, 13, 14, 15],\n",
    "    [16, 17, 18, 19, 20],\n",
    "    [21, 22, 23, 24, 25]\n",
    "]\n",
    "\n",
    "# Output results for each test case\n",
    "print(\"Test Case 1 Output:\", print_spiral_order(matrix1))\n",
    "print(\"Test Case 2 Output:\", print_spiral_order(matrix2))\n",
    "print(\"Test Case 3 Output:\", print_spiral_order(matrix3))\n",
    "\n",
    "\n",
    "print(''' Test Case 1 Expected Output: [1, 2, 3, 6, 9, 8, 7, 4, 5]\n",
    "Test Case 2 Expected Output: [1, 2, 3, 4, 8, 12, 16, 15, 14, 13, 9, 5, 6, 7, 11, 10]\n",
    "Test Case 3 Expected Output: [1, 2, 3, 4, 5, 10, 15, 20, 25, 24, 23, 22, 21, 16, 11, 6, 7, 8, 9, 14, 19, 18, 17, 12, 13]\n",
    "''')"
   ]
  },
  {
   "cell_type": "code",
   "execution_count": 101,
   "metadata": {},
   "outputs": [
    {
     "name": "stdout",
     "output_type": "stream",
     "text": [
      "19   2    17   6    16   15   \n",
      "0    16   16   0    9    8    \n",
      "18   19   0    19   7    3    \n",
      "9    8    18   7    7    2    \n",
      "0    6    4    6    1    13   \n",
      "[19, 2, 17, 6, 16, 15, 8, 3, 2, 13, 1, 6, 4, 6, 0, 9, 18, 0, 16, 16, 0, 9, 7, 7, 7, 18, 8, 19, 0, 19]\n",
      "30 30\n"
     ]
    }
   ],
   "source": [
    "import numpy as np\n",
    "m = np.random.randint(low=5, high=11)\n",
    "n = np.random.randint(low=5, high=11)\n",
    "arr = np.random.randint(low=0, high=20, size=(m, n))\n",
    "for i in range(m):\n",
    "    for j in range(n):\n",
    "        print(f\"{arr[i][j]:<5}\", end=\"\")\n",
    "    print(\"\")\n",
    "\n",
    "# You can treat the numpy array as a list in python (for now)\n",
    "print(print_spiral_order(arr))"
   ]
  },
  {
   "cell_type": "code",
   "execution_count": 14,
   "metadata": {},
   "outputs": [
    {
     "data": {
      "text/plain": [
       "'\\nGiven a string of different words, count the number of times each word appears\\nHint: Use a dictionary and the string split function\\n'"
      ]
     },
     "execution_count": 14,
     "metadata": {},
     "output_type": "execute_result"
    }
   ],
   "source": [
    "# Assignment 2\n",
    "'''\n",
    "Given a string of different words, count the number of times each word appears\n",
    "Hint: Use a dictionary and the string split function\n",
    "'''"
   ]
  },
  {
   "cell_type": "code",
   "execution_count": 8,
   "metadata": {},
   "outputs": [],
   "source": [
    "def count_word_frequency(sentence):\n",
    "\n",
    "    list = sentence.lower().split()\n",
    "\n",
    "    for i in range(len(list)):\n",
    "        list[i] = list[i].strip(\",.\")\n",
    "\n",
    "    dict = {}\n",
    "    for word in list:\n",
    "        if word in dict.keys():\n",
    "            dict[word] += 1\n",
    "        else:\n",
    "            dict[word] = 1\n",
    "\n",
    "    return dict"
   ]
  },
  {
   "cell_type": "code",
   "execution_count": 9,
   "metadata": {},
   "outputs": [
    {
     "name": "stdout",
     "output_type": "stream",
     "text": [
      "Test Case 1:\n",
      "Input: Hello world Hello\n",
      "Output: {'hello': 2, 'world': 1}\n",
      "------------------------------\n",
      "Test Case 2:\n",
      "Input: Python is fun and Python is easy\n",
      "Output: {'python': 2, 'is': 2, 'fun': 1, 'and': 1, 'easy': 1}\n",
      "------------------------------\n",
      "Test Case 3:\n",
      "Input: One fish two fish red fish blue fish\n",
      "Output: {'one': 1, 'fish': 4, 'two': 1, 'red': 1, 'blue': 1}\n",
      "------------------------------\n",
      "Test Case 4:\n",
      "Input: This is a test. This test is simple.\n",
      "Output: {'this': 2, 'is': 2, 'a': 1, 'test': 2, 'simple': 1}\n",
      "------------------------------\n",
      "Test Case 5:\n",
      "Input: Repeat repeat Repeat\n",
      "Output: {'repeat': 3}\n",
      "------------------------------\n",
      "Test Case 6:\n",
      "Input: \n",
      "Output: {}\n",
      "------------------------------\n",
      "Test Case 7:\n",
      "Input: Spaces       between      words\n",
      "Output: {'spaces': 1, 'between': 1, 'words': 1}\n",
      "------------------------------\n"
     ]
    }
   ],
   "source": [
    "testcases = [\n",
    "    \"Hello world Hello\",\n",
    "    \"Python is fun and Python is easy\",\n",
    "    \"One fish two fish red fish blue fish\",\n",
    "    \"This is a test. This test is simple.\",\n",
    "    \"Repeat repeat Repeat\",\n",
    "    \"\",\n",
    "    \"Spaces       between      words\"\n",
    "]\n",
    "\n",
    "for i, test in enumerate(testcases):\n",
    "    print(f\"Test Case {i + 1}:\")\n",
    "    print(f\"Input: {test}\")\n",
    "    print(\"Output:\", count_word_frequency(test))\n",
    "    print(\"-\" * 30)"
   ]
  },
  {
   "cell_type": "code",
   "execution_count": 17,
   "metadata": {},
   "outputs": [
    {
     "data": {
      "text/plain": [
       "'\\nGiven a string, check if it is a palindrome\\n\\nExample:\\n\\nis_palindrome(\"radar\")\\nOutput: True\\n\\nis_palindrome(\"hello\")\\nOutput: False\\n\\nis_palindrome(\"\")\\nOutput: True\\n\\n\\nDo this in 2 ways:\\nIteratively and Recursively\\n'"
      ]
     },
     "execution_count": 17,
     "metadata": {},
     "output_type": "execute_result"
    }
   ],
   "source": [
    "#Assignment 3\n",
    "'''\n",
    "Given a string, check if it is a palindrome\n",
    "\n",
    "Example:\n",
    "\n",
    "is_palindrome(\"radar\")\n",
    "Output: True\n",
    "\n",
    "is_palindrome(\"hello\")\n",
    "Output: False\n",
    "\n",
    "is_palindrome(\"\")\n",
    "Output: True\n",
    "\n",
    "\n",
    "Do this in 2 ways:\n",
    "Iteratively and Recursively\n",
    "'''"
   ]
  },
  {
   "cell_type": "code",
   "execution_count": 27,
   "metadata": {},
   "outputs": [],
   "source": [
    "def is_palindrome_iterative(s):\n",
    "   \n",
    "    for i in range(len(s)//2):\n",
    "        if s[i] != s[-i-1]:\n",
    "            return False\n",
    "\n",
    "    return True"
   ]
  },
  {
   "cell_type": "code",
   "execution_count": 15,
   "metadata": {},
   "outputs": [],
   "source": [
    "def is_palindrome_recursive(s):\n",
    "    \n",
    "    if len(s) == 1 or len(s) == 0:\n",
    "        return True\n",
    "    \n",
    "    if s[0] != s[-1]:\n",
    "        return False\n",
    "    \n",
    "    s1 = \"\"\n",
    "    for i in range(len(s) - 2):\n",
    "        s1 = s1 + s[i + 1]\n",
    "\n",
    "    return is_palindrome_recursive(s1)"
   ]
  },
  {
   "cell_type": "code",
   "execution_count": 29,
   "metadata": {},
   "outputs": [
    {
     "name": "stdout",
     "output_type": "stream",
     "text": [
      "Test Case 1: Input = 'radar'\n",
      "  Iterative Output: True\n",
      "  Recursive Output: True\n",
      "  Expected Output: True\n",
      "  Iterative Pass: True\n",
      "  Recursive Pass: True\n",
      "------------------------------\n",
      "Test Case 2: Input = 'boommoob'\n",
      "  Iterative Output: True\n",
      "  Recursive Output: True\n",
      "  Expected Output: True\n",
      "  Iterative Pass: True\n",
      "  Recursive Pass: True\n",
      "------------------------------\n",
      "Test Case 3: Input = 'world'\n",
      "  Iterative Output: False\n",
      "  Recursive Output: False\n",
      "  Expected Output: False\n",
      "  Iterative Pass: True\n",
      "  Recursive Pass: True\n",
      "------------------------------\n",
      "Test Case 4: Input = 'a'\n",
      "  Iterative Output: True\n",
      "  Recursive Output: True\n",
      "  Expected Output: True\n",
      "  Iterative Pass: True\n",
      "  Recursive Pass: True\n",
      "------------------------------\n",
      "Test Case 5: Input = ''\n",
      "  Iterative Output: True\n",
      "  Recursive Output: True\n",
      "  Expected Output: True\n",
      "  Iterative Pass: True\n",
      "  Recursive Pass: True\n",
      "------------------------------\n",
      "Test Case 6: Input = 'RadAr'\n",
      "  Iterative Output: False\n",
      "  Recursive Output: False\n",
      "  Expected Output: False\n",
      "  Iterative Pass: True\n",
      "  Recursive Pass: True\n",
      "------------------------------\n"
     ]
    }
   ],
   "source": [
    "# Test cases\n",
    "test_cases = [\n",
    "    (\"radar\", True),      # Simple palindrome\n",
    "    (\"boommoob\", True),   # Simple palindrome\n",
    "    (\"world\", False),     # Not a palindrome\n",
    "    (\"a\", True),          # Single character\n",
    "    (\"\", True),           # Empty string\n",
    "    (\"RadAr\", False),     # Case-sensitive test\n",
    "]\n",
    "\n",
    "# Iterate over test cases and print results\n",
    "for i, (input_str, expected) in enumerate(test_cases):\n",
    "    print(f\"Test Case {i + 1}: Input = '{input_str}'\")\n",
    "    result_iterative = is_palindrome_iterative(input_str)\n",
    "    result_recursive = is_palindrome_recursive(input_str)\n",
    "    print(f\"  Iterative Output: {result_iterative}\")\n",
    "    print(f\"  Recursive Output: {result_recursive}\")\n",
    "    print(f\"  Expected Output: {expected}\")\n",
    "    print(f\"  Iterative Pass: {result_iterative == expected}\")\n",
    "    print(f\"  Recursive Pass: {result_recursive == expected}\")\n",
    "    print(\"-\" * 30)\n"
   ]
  },
  {
   "cell_type": "code",
   "execution_count": 21,
   "metadata": {},
   "outputs": [
    {
     "data": {
      "text/plain": [
       "'\\nGiven a Number, check if it is a prime number\\n\\nExample:\\n\\nis_prime(2)\\nOutput: True\\n\\nis_prime(6)\\nOutput: False\\n\\nis_prime(1)\\nOutput: False\\n'"
      ]
     },
     "execution_count": 21,
     "metadata": {},
     "output_type": "execute_result"
    }
   ],
   "source": [
    "#Assignment 4\n",
    "'''\n",
    "Given a Number, check if it is a prime number\n",
    "\n",
    "Example:\n",
    "\n",
    "is_prime(2)\n",
    "Output: True\n",
    "\n",
    "is_prime(6)\n",
    "Output: False\n",
    "\n",
    "is_prime(1)\n",
    "Output: False\n",
    "'''"
   ]
  },
  {
   "cell_type": "code",
   "execution_count": 1,
   "metadata": {},
   "outputs": [],
   "source": [
    "def is_prime(n):\n",
    "\n",
    "    if n <= 1: return False\n",
    "    \n",
    "    for i in range(2, n):\n",
    "        if n % i == 0:\n",
    "            return False\n",
    "        \n",
    "    return True"
   ]
  },
  {
   "cell_type": "code",
   "execution_count": 2,
   "metadata": {},
   "outputs": [
    {
     "name": "stdout",
     "output_type": "stream",
     "text": [
      "Test Case 1: Input = 2\n",
      "  Output: True\n",
      "  Expected Output: True\n",
      "  Pass: True\n",
      "------------------------------\n",
      "Test Case 2: Input = 3\n",
      "  Output: True\n",
      "  Expected Output: True\n",
      "  Pass: True\n",
      "------------------------------\n",
      "Test Case 3: Input = 4\n",
      "  Output: False\n",
      "  Expected Output: False\n",
      "  Pass: True\n",
      "------------------------------\n",
      "Test Case 4: Input = 17\n",
      "  Output: True\n",
      "  Expected Output: True\n",
      "  Pass: True\n",
      "------------------------------\n",
      "Test Case 5: Input = 19\n",
      "  Output: True\n",
      "  Expected Output: True\n",
      "  Pass: True\n",
      "------------------------------\n",
      "Test Case 6: Input = 20\n",
      "  Output: False\n",
      "  Expected Output: False\n",
      "  Pass: True\n",
      "------------------------------\n",
      "Test Case 7: Input = 1\n",
      "  Output: False\n",
      "  Expected Output: False\n",
      "  Pass: True\n",
      "------------------------------\n",
      "Test Case 8: Input = 0\n",
      "  Output: False\n",
      "  Expected Output: False\n",
      "  Pass: True\n",
      "------------------------------\n",
      "Test Case 9: Input = -5\n",
      "  Output: False\n",
      "  Expected Output: False\n",
      "  Pass: True\n",
      "------------------------------\n",
      "Test Case 10: Input = 97\n",
      "  Output: True\n",
      "  Expected Output: True\n",
      "  Pass: True\n",
      "------------------------------\n"
     ]
    }
   ],
   "source": [
    "# Test cases\n",
    "test_cases = [\n",
    "    (2, True),        # Smallest prime number\n",
    "    (3, True),        # Small prime number\n",
    "    (4, False),       # First composite number\n",
    "    (17, True),       # Prime number\n",
    "    (19, True),       # Prime number\n",
    "    (20, False),      # Composite number\n",
    "    (1, False),       # Not a prime number\n",
    "    (0, False),       # Not a prime number\n",
    "    (-5, False),      # Negative numbers are not prime\n",
    "    (97, True)        # Large prime number\n",
    "]\n",
    "\n",
    "# Iterate through test cases\n",
    "for i, (input_num, expected) in enumerate(test_cases):\n",
    "    print(f\"Test Case {i + 1}: Input = {input_num}\")\n",
    "    result = is_prime(input_num)\n",
    "    print(f\"  Output: {result}\")\n",
    "    print(f\"  Expected Output: {expected}\")\n",
    "    print(f\"  Pass: {result == expected}\")\n",
    "    print(\"-\" * 30)\n"
   ]
  }
 ],
 "metadata": {
  "kernelspec": {
   "display_name": "Python 3",
   "language": "python",
   "name": "python3"
  },
  "language_info": {
   "codemirror_mode": {
    "name": "ipython",
    "version": 3
   },
   "file_extension": ".py",
   "mimetype": "text/x-python",
   "name": "python",
   "nbconvert_exporter": "python",
   "pygments_lexer": "ipython3",
   "version": "3.12.7"
  }
 },
 "nbformat": 4,
 "nbformat_minor": 2
}
